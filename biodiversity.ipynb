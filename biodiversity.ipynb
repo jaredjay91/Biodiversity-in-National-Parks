{
 "cells": [
  {
   "cell_type": "markdown",
   "metadata": {},
   "source": [
    "Import necessary libraries"
   ]
  },
  {
   "cell_type": "code",
   "execution_count": 1,
   "metadata": {},
   "outputs": [],
   "source": [
    "import pandas as pd\n",
    "import matplotlib.pyplot as plt\n",
    "import seaborn as sns\n",
    "import numpy as np"
   ]
  },
  {
   "cell_type": "markdown",
   "metadata": {},
   "source": [
    "Now let's take load the data and take a look at it."
   ]
  },
  {
   "cell_type": "code",
   "execution_count": 2,
   "metadata": {},
   "outputs": [],
   "source": [
    "df_observations = pd.read_csv(\"observations.csv\")\n",
    "df_species = pd.read_csv(\"species_info.csv\")"
   ]
  },
  {
   "cell_type": "code",
   "execution_count": 3,
   "metadata": {},
   "outputs": [
    {
     "name": "stdout",
     "output_type": "stream",
     "text": [
      "                               scientific_name  \\\n",
      "0                           Vicia benghalensis   \n",
      "1                               Neovison vison   \n",
      "2                            Prunus subcordata   \n",
      "3                         Abutilon theophrasti   \n",
      "4                     Githopsis specularioides   \n",
      "...                                        ...   \n",
      "23291                     Croton monanthogynus   \n",
      "23292                 Otospermophilus beecheyi   \n",
      "23293  Heterotheca sessiliflora ssp. echioides   \n",
      "23294                     Dicranella rufescens   \n",
      "23295                           Cucurbita pepo   \n",
      "\n",
      "                                 park_name  observations  \n",
      "0      Great Smoky Mountains National Park            68  \n",
      "1      Great Smoky Mountains National Park            77  \n",
      "2                   Yosemite National Park           138  \n",
      "3                      Bryce National Park            84  \n",
      "4      Great Smoky Mountains National Park            85  \n",
      "...                                    ...           ...  \n",
      "23291               Yosemite National Park           173  \n",
      "23292                  Bryce National Park           130  \n",
      "23293                  Bryce National Park           140  \n",
      "23294               Yosemite National Park           171  \n",
      "23295               Yosemite National Park           164  \n",
      "\n",
      "[23296 rows x 3 columns]\n"
     ]
    }
   ],
   "source": [
    "print(df_observations)"
   ]
  },
  {
   "cell_type": "code",
   "execution_count": 4,
   "metadata": {},
   "outputs": [
    {
     "name": "stdout",
     "output_type": "stream",
     "text": [
      "            category                scientific_name  \\\n",
      "0             Mammal  Clethrionomys gapperi gapperi   \n",
      "1             Mammal                      Bos bison   \n",
      "2             Mammal                     Bos taurus   \n",
      "3             Mammal                     Ovis aries   \n",
      "4             Mammal                 Cervus elaphus   \n",
      "...              ...                            ...   \n",
      "5819  Vascular Plant               Solanum parishii   \n",
      "5820  Vascular Plant                  Solanum xanti   \n",
      "5821  Vascular Plant         Parthenocissus vitacea   \n",
      "5822  Vascular Plant              Vitis californica   \n",
      "5823  Vascular Plant            Tribulus terrestris   \n",
      "\n",
      "                                           common_names conservation_status  \n",
      "0                              Gapper's Red-Backed Vole                 NaN  \n",
      "1                                 American Bison, Bison                 NaN  \n",
      "2     Aurochs, Aurochs, Domestic Cattle (Feral), Dom...                 NaN  \n",
      "3     Domestic Sheep, Mouflon, Red Sheep, Sheep (Feral)                 NaN  \n",
      "4                                         Wapiti Or Elk                 NaN  \n",
      "...                                                 ...                 ...  \n",
      "5819                                Parish's Nightshade                 NaN  \n",
      "5820            Chaparral Nightshade, Purple Nightshade                 NaN  \n",
      "5821        Thicket Creeper, Virginia Creeper, Woodbine                 NaN  \n",
      "5822            California Grape, California Wild Grape                 NaN  \n",
      "5823  Bullhead, Caltrop, Goathead, Mexican Sandbur, ...                 NaN  \n",
      "\n",
      "[5824 rows x 4 columns]\n"
     ]
    }
   ],
   "source": [
    "print(df_species)"
   ]
  },
  {
   "cell_type": "markdown",
   "metadata": {},
   "source": [
    "So, in observations.csv we have a list of the number of times each species was observed in each park. In species_info.csv we have a list of species with their respective category, common name, and conservation status. What can we do with this? One thing we could do is make bar charts showing how many of each category are seen in each park. This would tell us immediately which parks have the most sightings and what type of wildlife is seen most often. Another thing we could do is look at endangered species and see if they are observed at significantly lower rates than other species in their category."
   ]
  },
  {
   "cell_type": "markdown",
   "metadata": {},
   "source": [
    "First, I'll write a function that gives me the category when I input the scientific name of a species. The simplest thing will be to just create a dictionary."
   ]
  },
  {
   "cell_type": "code",
   "execution_count": 5,
   "metadata": {},
   "outputs": [],
   "source": [
    "category_dict = dict(zip(df_species.scientific_name, df_species.category))\n",
    "#print(category_dict)"
   ]
  },
  {
   "cell_type": "markdown",
   "metadata": {},
   "source": [
    "Now I'll use it to make a new column."
   ]
  },
  {
   "cell_type": "code",
   "execution_count": 6,
   "metadata": {},
   "outputs": [
    {
     "name": "stdout",
     "output_type": "stream",
     "text": [
      "                               scientific_name  \\\n",
      "0                           Vicia benghalensis   \n",
      "1                               Neovison vison   \n",
      "2                            Prunus subcordata   \n",
      "3                         Abutilon theophrasti   \n",
      "4                     Githopsis specularioides   \n",
      "...                                        ...   \n",
      "23291                     Croton monanthogynus   \n",
      "23292                 Otospermophilus beecheyi   \n",
      "23293  Heterotheca sessiliflora ssp. echioides   \n",
      "23294                     Dicranella rufescens   \n",
      "23295                           Cucurbita pepo   \n",
      "\n",
      "                                 park_name  observations           Category  \n",
      "0      Great Smoky Mountains National Park            68     Vascular Plant  \n",
      "1      Great Smoky Mountains National Park            77             Mammal  \n",
      "2                   Yosemite National Park           138     Vascular Plant  \n",
      "3                      Bryce National Park            84     Vascular Plant  \n",
      "4      Great Smoky Mountains National Park            85     Vascular Plant  \n",
      "...                                    ...           ...                ...  \n",
      "23291               Yosemite National Park           173     Vascular Plant  \n",
      "23292                  Bryce National Park           130             Mammal  \n",
      "23293                  Bryce National Park           140     Vascular Plant  \n",
      "23294               Yosemite National Park           171  Nonvascular Plant  \n",
      "23295               Yosemite National Park           164     Vascular Plant  \n",
      "\n",
      "[23296 rows x 4 columns]\n"
     ]
    }
   ],
   "source": [
    "getCategory = lambda scientific_name: category_dict[scientific_name]\n",
    "df_observations['Category'] = df_observations.scientific_name.apply(getCategory)\n",
    "print(df_observations)"
   ]
  },
  {
   "cell_type": "markdown",
   "metadata": {},
   "source": [
    "Now I'll merge all species from the same category together."
   ]
  },
  {
   "cell_type": "code",
   "execution_count": 8,
   "metadata": {},
   "outputs": [
    {
     "name": "stdout",
     "output_type": "stream",
     "text": [
      "                              park_name           Category  observations\n",
      "0                   Bryce National Park          Amphibian          7380\n",
      "1                   Bryce National Park               Bird         51647\n",
      "2                   Bryce National Park               Fish         12423\n",
      "3                   Bryce National Park             Mammal         20550\n",
      "4                   Bryce National Park  Nonvascular Plant         32992\n",
      "5                   Bryce National Park            Reptile          7950\n",
      "6                   Bryce National Park     Vascular Plant        443083\n",
      "7   Great Smoky Mountains National Park          Amphibian          5707\n",
      "8   Great Smoky Mountains National Park               Bird         37728\n",
      "9   Great Smoky Mountains National Park               Fish          9206\n",
      "10  Great Smoky Mountains National Park             Mammal         15012\n",
      "11  Great Smoky Mountains National Park  Nonvascular Plant         24857\n",
      "12  Great Smoky Mountains National Park            Reptile          5691\n",
      "13  Great Smoky Mountains National Park     Vascular Plant        333619\n",
      "14            Yellowstone National Park          Amphibian         19440\n",
      "15            Yellowstone National Park               Bird        127251\n",
      "16            Yellowstone National Park               Fish         30574\n",
      "17            Yellowstone National Park             Mammal         50795\n",
      "18            Yellowstone National Park  Nonvascular Plant         83021\n",
      "19            Yellowstone National Park            Reptile         19554\n",
      "20            Yellowstone National Park     Vascular Plant       1112927\n",
      "21               Yosemite National Park          Amphibian         11444\n",
      "22               Yosemite National Park               Bird         76207\n",
      "23               Yosemite National Park               Fish         18615\n",
      "24               Yosemite National Park             Mammal         30339\n",
      "25               Yosemite National Park  Nonvascular Plant         49783\n",
      "26               Yosemite National Park            Reptile         11483\n",
      "27               Yosemite National Park     Vascular Plant        665461\n"
     ]
    }
   ],
   "source": [
    "df_categories = df_observations.groupby(['park_name', 'Category'])['observations'].sum().reset_index()\n",
    "print(df_categories)"
   ]
  },
  {
   "cell_type": "markdown",
   "metadata": {},
   "source": [
    "Now I'll make a stacked bar chart representing the categories found in the various national parks."
   ]
  },
  {
   "cell_type": "code",
   "execution_count": 16,
   "metadata": {},
   "outputs": [
    {
     "data": {
      "text/plain": [
       "(array([0, 1, 2, 3]),\n",
       " [Text(0, 0, 'Bryce National Park'),\n",
       "  Text(1, 0, 'Great Smoky Mountains National Park'),\n",
       "  Text(2, 0, 'Yellowstone National Park'),\n",
       "  Text(3, 0, 'Yosemite National Park')])"
      ]
     },
     "execution_count": 16,
     "metadata": {},
     "output_type": "execute_result"
    },
    {
     "data": {
      "image/png": "[encoded data removed]",
      "text/plain": [
       "<Figure size 432x288 with 1 Axes>"
      ]
     },
     "metadata": {
      "needs_background": "light"
     },
     "output_type": "display_data"
    }
   ],
   "source": [
    "df_amphibians = df_categories[df_categories.Category == \"Amphibian\"]\n",
    "bar1 = sns.barplot(x=\"park_name\",  y=\"observations\", data=df_amphibians, color='violet')\n",
    "df_birds = df_categories[df_categories.Category == \"Bird\"]\n",
    "#bar2 = sns.barplot(x=\"park_name\",  y=\"observations\", data=df_birds, color='blue')\n",
    "plt.xticks(rotation=90)"
   ]
  },
  {
   "cell_type": "code",
   "execution_count": null,
   "metadata": {},
   "outputs": [],
   "source": []
  }
 ],
 "metadata": {
  "kernelspec": {
   "display_name": "Python 3",
   "language": "python",
   "name": "python3"
  },
  "language_info": {
   "codemirror_mode": {
    "name": "ipython",
    "version": 3
   },
   "file_extension": ".py",
   "mimetype": "text/x-python",
   "name": "python",
   "nbconvert_exporter": "python",
   "pygments_lexer": "ipython3",
   "version": "3.6.9"
  }
 },
 "nbformat": 4,
 "nbformat_minor": 4
}
